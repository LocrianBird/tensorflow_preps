{
 "cells": [
  {
   "cell_type": "markdown",
   "metadata": {},
   "source": [
    "# Deep Learning with Tensorflow"
   ]
  },
  {
   "cell_type": "code",
   "execution_count": 16,
   "metadata": {},
   "outputs": [
    {
     "name": "stdout",
     "output_type": "stream",
     "text": [
      "2.5.0\n"
     ]
    }
   ],
   "source": [
    "import tensorflow as tf\n",
    "print(tf.__version__)"
   ]
  },
  {
   "cell_type": "code",
   "execution_count": 17,
   "metadata": {},
   "outputs": [],
   "source": [
    "import seaborn as sns \n",
    "import pandas as pd\n",
    "import numpy as np\n",
    "from tensorflow.keras.layers import Dense, Dropout, Activation\n",
    "from tensorflow.keras.models import Model, Sequential\n",
    "from tensorflow.keras.optimizers import Adam"
   ]
  },
  {
   "cell_type": "code",
   "execution_count": 18,
   "metadata": {
    "scrolled": false
   },
   "outputs": [
    {
     "data": {
      "text/html": [
       "<div>\n",
       "<style scoped>\n",
       "    .dataframe tbody tr th:only-of-type {\n",
       "        vertical-align: middle;\n",
       "    }\n",
       "\n",
       "    .dataframe tbody tr th {\n",
       "        vertical-align: top;\n",
       "    }\n",
       "\n",
       "    .dataframe thead th {\n",
       "        text-align: right;\n",
       "    }\n",
       "</style>\n",
       "<table border=\"1\" class=\"dataframe\">\n",
       "  <thead>\n",
       "    <tr style=\"text-align: right;\">\n",
       "      <th></th>\n",
       "      <th>variance</th>\n",
       "      <th>skewness</th>\n",
       "      <th>curtosis</th>\n",
       "      <th>entropy</th>\n",
       "      <th>class</th>\n",
       "    </tr>\n",
       "  </thead>\n",
       "  <tbody>\n",
       "    <tr>\n",
       "      <th>0</th>\n",
       "      <td>3.62160</td>\n",
       "      <td>8.6661</td>\n",
       "      <td>-2.8073</td>\n",
       "      <td>-0.44699</td>\n",
       "      <td>0</td>\n",
       "    </tr>\n",
       "    <tr>\n",
       "      <th>1</th>\n",
       "      <td>4.54590</td>\n",
       "      <td>8.1674</td>\n",
       "      <td>-2.4586</td>\n",
       "      <td>-1.46210</td>\n",
       "      <td>0</td>\n",
       "    </tr>\n",
       "    <tr>\n",
       "      <th>2</th>\n",
       "      <td>3.86600</td>\n",
       "      <td>-2.6383</td>\n",
       "      <td>1.9242</td>\n",
       "      <td>0.10645</td>\n",
       "      <td>0</td>\n",
       "    </tr>\n",
       "    <tr>\n",
       "      <th>3</th>\n",
       "      <td>3.45660</td>\n",
       "      <td>9.5228</td>\n",
       "      <td>-4.0112</td>\n",
       "      <td>-3.59440</td>\n",
       "      <td>0</td>\n",
       "    </tr>\n",
       "    <tr>\n",
       "      <th>4</th>\n",
       "      <td>0.32924</td>\n",
       "      <td>-4.4552</td>\n",
       "      <td>4.5718</td>\n",
       "      <td>-0.98880</td>\n",
       "      <td>0</td>\n",
       "    </tr>\n",
       "  </tbody>\n",
       "</table>\n",
       "</div>"
      ],
      "text/plain": [
       "   variance  skewness  curtosis  entropy  class\n",
       "0   3.62160    8.6661   -2.8073 -0.44699      0\n",
       "1   4.54590    8.1674   -2.4586 -1.46210      0\n",
       "2   3.86600   -2.6383    1.9242  0.10645      0\n",
       "3   3.45660    9.5228   -4.0112 -3.59440      0\n",
       "4   0.32924   -4.4552    4.5718 -0.98880      0"
      ]
     },
     "execution_count": 18,
     "metadata": {},
     "output_type": "execute_result"
    }
   ],
   "source": [
    "banknote_data = pd.read_csv(\"banknote.csv\")\n",
    "banknote_data.head()"
   ]
  },
  {
   "cell_type": "code",
   "execution_count": 19,
   "metadata": {},
   "outputs": [
    {
     "data": {
      "text/plain": [
       "(1372, 5)"
      ]
     },
     "execution_count": 19,
     "metadata": {},
     "output_type": "execute_result"
    }
   ],
   "source": [
    "banknote_data.shape"
   ]
  },
  {
   "cell_type": "code",
   "execution_count": 20,
   "metadata": {},
   "outputs": [
    {
     "data": {
      "text/plain": [
       "<matplotlib.axes._subplots.AxesSubplot at 0x175f14b3a90>"
      ]
     },
     "execution_count": 20,
     "metadata": {},
     "output_type": "execute_result"
    },
    {
     "data": {
      "image/png": "[encoded data removed]",
      "text/plain": [
       "<Figure size 432x288 with 1 Axes>"
      ]
     },
     "metadata": {
      "needs_background": "light"
     },
     "output_type": "display_data"
    }
   ],
   "source": [
    "sns.countplot(x='class', data=banknote_data)"
   ]
  },
  {
   "cell_type": "code",
   "execution_count": 21,
   "metadata": {},
   "outputs": [
    {
     "name": "stdout",
     "output_type": "stream",
     "text": [
      "(1372, 4)\n",
      "(1372,)\n"
     ]
    }
   ],
   "source": [
    "X = banknote_data.drop(['class'], axis=1).values\n",
    "y = banknote_data['class'].values\n",
    "\n",
    "print(X.shape)\n",
    "print(y.shape)"
   ]
  },
  {
   "cell_type": "code",
   "execution_count": 22,
   "metadata": {},
   "outputs": [],
   "source": [
    "from sklearn.model_selection import train_test_split\n",
    "X_train, X_test, y_train, y_test = train_test_split(X, y, test_size=0.20, random_state=42)"
   ]
  },
  {
   "cell_type": "code",
   "execution_count": 23,
   "metadata": {},
   "outputs": [],
   "source": [
    "from sklearn.preprocessing import StandardScaler\n",
    "sc = StandardScaler()\n",
    "X_train = sc.fit_transform(X_train)\n",
    "X_test = sc.fit(X_test)"
   ]
  },
  {
   "cell_type": "code",
   "execution_count": 24,
   "metadata": {},
   "outputs": [],
   "source": [
    "def create_model(learning_rate, dropout_rate):\n",
    "    model = Sequential()\n",
    "    model.add(Dense(12, input_dim=X_train.shape[1], activation=\"relu\"))\n",
    "    model.add(Dropout(dropout_rate))\n",
    "    model.add(Dense(6, activation=\"relu\"))\n",
    "    model.add(Dropout(dropout_rate))\n",
    "    model.add(Dense(1,activation=\"sigmoid\"))\n",
    "    adam = Adam(lr = learning_rate)\n",
    "    model.compile(loss=\"binary_crossentropy\", optimizer=adam, metrics=['accuracy'])\n",
    "    return model"
   ]
  },
  {
   "cell_type": "code",
   "execution_count": 25,
   "metadata": {},
   "outputs": [],
   "source": [
    "dropout_rate = 0.1\n",
    "epochs = 20\n",
    "batch_size = 4\n",
    "learn_rate = 0.001"
   ]
  },
  {
   "cell_type": "code",
   "execution_count": 31,
   "metadata": {},
   "outputs": [
    {
     "name": "stderr",
     "output_type": "stream",
     "text": [
      "C:\\Anaconda\\lib\\site-packages\\tensorflow\\python\\keras\\optimizer_v2\\optimizer_v2.py:375: UserWarning: The `lr` argument is deprecated, use `learning_rate` instead.\n",
      "  \"The `lr` argument is deprecated, use `learning_rate` instead.\")\n"
     ]
    }
   ],
   "source": [
    "model = create_model(learn_rate, dropout_rate)"
   ]
  },
  {
   "cell_type": "code",
   "execution_count": 42,
   "metadata": {
    "scrolled": true
   },
   "outputs": [
    {
     "name": "stdout",
     "output_type": "stream",
     "text": [
      "Epoch 1/20\n",
      "220/220 [==============================] - 1s 2ms/step - loss: 0.6887 - accuracy: 0.5690 - val_loss: 0.5937 - val_accuracy: 0.8227\n",
      "Epoch 2/20\n",
      "220/220 [==============================] - 0s 2ms/step - loss: 0.5407 - accuracy: 0.7799 - val_loss: 0.4270 - val_accuracy: 0.9182\n",
      "Epoch 3/20\n",
      "220/220 [==============================] - 0s 2ms/step - loss: 0.3526 - accuracy: 0.8905 - val_loss: 0.2263 - val_accuracy: 0.9455\n",
      "Epoch 4/20\n",
      "220/220 [==============================] - 0s 2ms/step - loss: 0.2037 - accuracy: 0.9407 - val_loss: 0.1217 - val_accuracy: 0.9682\n",
      "Epoch 5/20\n",
      "220/220 [==============================] - 0s 2ms/step - loss: 0.1440 - accuracy: 0.9498 - val_loss: 0.0749 - val_accuracy: 0.9773\n",
      "Epoch 6/20\n",
      "220/220 [==============================] - 0s 1ms/step - loss: 0.1029 - accuracy: 0.9692 - val_loss: 0.0515 - val_accuracy: 0.9909\n",
      "Epoch 7/20\n",
      "220/220 [==============================] - 0s 2ms/step - loss: 0.0879 - accuracy: 0.9715 - val_loss: 0.0371 - val_accuracy: 0.9909\n",
      "Epoch 8/20\n",
      "220/220 [==============================] - 0s 2ms/step - loss: 0.0780 - accuracy: 0.9704 - val_loss: 0.0306 - val_accuracy: 0.9909\n",
      "Epoch 9/20\n",
      "220/220 [==============================] - 0s 1ms/step - loss: 0.0684 - accuracy: 0.9715 - val_loss: 0.0247 - val_accuracy: 0.9955\n",
      "Epoch 10/20\n",
      "220/220 [==============================] - 0s 1ms/step - loss: 0.0659 - accuracy: 0.9704 - val_loss: 0.0196 - val_accuracy: 0.9955\n",
      "Epoch 11/20\n",
      "220/220 [==============================] - 0s 1ms/step - loss: 0.0437 - accuracy: 0.9840 - val_loss: 0.0161 - val_accuracy: 0.9955\n",
      "Epoch 12/20\n",
      "220/220 [==============================] - 0s 1ms/step - loss: 0.0487 - accuracy: 0.9840 - val_loss: 0.0144 - val_accuracy: 0.9955\n",
      "Epoch 13/20\n",
      "220/220 [==============================] - 0s 1ms/step - loss: 0.0385 - accuracy: 0.9886 - val_loss: 0.0124 - val_accuracy: 0.9955\n",
      "Epoch 14/20\n",
      "220/220 [==============================] - 0s 1ms/step - loss: 0.0478 - accuracy: 0.9840 - val_loss: 0.0110 - val_accuracy: 0.9955\n",
      "Epoch 15/20\n",
      "220/220 [==============================] - 0s 1ms/step - loss: 0.0414 - accuracy: 0.9852 - val_loss: 0.0110 - val_accuracy: 0.9955\n",
      "Epoch 16/20\n",
      "220/220 [==============================] - 0s 1ms/step - loss: 0.0353 - accuracy: 0.9886 - val_loss: 0.0088 - val_accuracy: 0.9955\n",
      "Epoch 17/20\n",
      "220/220 [==============================] - 0s 1ms/step - loss: 0.0316 - accuracy: 0.9897 - val_loss: 0.0078 - val_accuracy: 1.0000\n",
      "Epoch 18/20\n",
      "220/220 [==============================] - 0s 2ms/step - loss: 0.0405 - accuracy: 0.9829 - val_loss: 0.0072 - val_accuracy: 1.0000\n",
      "Epoch 19/20\n",
      "220/220 [==============================] - 0s 1ms/step - loss: 0.0325 - accuracy: 0.9897 - val_loss: 0.0058 - val_accuracy: 1.0000\n",
      "Epoch 20/20\n",
      "220/220 [==============================] - 0s 1ms/step - loss: 0.0256 - accuracy: 0.9943 - val_loss: 0.0049 - val_accuracy: 1.0000\n"
     ]
    }
   ],
   "source": [
    "model_history = model.fit(X_train, y_train, batch_size=batch_size, epochs = epochs, validation_split=0.2, verbose=1)"
   ]
  },
  {
   "cell_type": "code",
   "execution_count": 48,
   "metadata": {},
   "outputs": [
    {
     "data": {
      "text/plain": [
       "<matplotlib.legend.Legend at 0x175f2bf9588>"
      ]
     },
     "execution_count": 48,
     "metadata": {},
     "output_type": "execute_result"
    },
    {
     "data": {
      "image/png": "[encoded data removed]",
      "text/plain": [
       "<Figure size 432x288 with 1 Axes>"
      ]
     },
     "metadata": {
      "needs_background": "light"
     },
     "output_type": "display_data"
    }
   ],
   "source": [
    "import matplotlib.pyplot as plt\n",
    "plt.plot(model_history.history['accuracy'], label=\"accuracy\")\n",
    "plt.plot(model_history.history['val_accuracy'], label = 'val_accuracy')\n",
    "plt.legend(['train', 'test'], loc=\"lower left\")"
   ]
  },
  {
   "cell_type": "code",
   "execution_count": 49,
   "metadata": {},
   "outputs": [
    {
     "data": {
      "text/plain": [
       "<matplotlib.legend.Legend at 0x175f2c36710>"
      ]
     },
     "execution_count": 49,
     "metadata": {},
     "output_type": "execute_result"
    },
    {
     "data": {
      "image/png": "[encoded data removed]",
      "text/plain": [
       "<Figure size 432x288 with 1 Axes>"
      ]
     },
     "metadata": {
      "needs_background": "light"
     },
     "output_type": "display_data"
    }
   ],
   "source": [
    "plt.plot(model_history.history['loss'], label=\"loss\")\n",
    "plt.plot(model_history.history['val_loss'], label='val_loss')\n",
    "plt.legend(['train', 'test'], loc=\"upper left\")"
   ]
  }
 ],
 "metadata": {
  "kernelspec": {
   "display_name": "Python 3",
   "language": "python",
   "name": "python3"
  },
  "language_info": {
   "codemirror_mode": {
    "name": "ipython",
    "version": 3
   },
   "file_extension": ".py",
   "mimetype": "text/x-python",
   "name": "python",
   "nbconvert_exporter": "python",
   "pygments_lexer": "ipython3",
   "version": "3.7.1"
  }
 },
 "nbformat": 4,
 "nbformat_minor": 5
}
